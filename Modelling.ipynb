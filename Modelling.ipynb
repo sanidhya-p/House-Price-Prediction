{
 "cells": [
  {
   "cell_type": "markdown",
   "id": "880f035a",
   "metadata": {},
   "source": [
    "## Modelling"
   ]
  },
  {
   "cell_type": "code",
   "execution_count": 36,
   "id": "df85de92",
   "metadata": {},
   "outputs": [],
   "source": [
    "# Here first we will create a copy and separate the target variable as we do not want to do the same transformation"
   ]
  },
  {
   "cell_type": "code",
   "execution_count": 37,
   "id": "44d87e78",
   "metadata": {},
   "outputs": [],
   "source": [
    "housing = strat_train_set.drop(\"median_house_value\", axis=1) # drop labels for training set\n",
    "housing_labels = strat_train_set[\"median_house_value\"].copy()"
   ]
  },
  {
   "cell_type": "markdown",
   "id": "039ea87e",
   "metadata": {},
   "source": [
    "### Data Pipeline"
   ]
  },
  {
   "cell_type": "code",
   "execution_count": 38,
   "id": "1de3b882",
   "metadata": {},
   "outputs": [],
   "source": [
    "from sklearn.impute import SimpleImputer\n",
    "from sklearn.preprocessing import OrdinalEncoder\n",
    "from sklearn.preprocessing import OneHotEncoder"
   ]
  },
  {
   "cell_type": "code",
   "execution_count": 39,
   "id": "1e583828",
   "metadata": {},
   "outputs": [],
   "source": [
    "# Now, we will write custom functions/transformers to add extra attributes we discussed earlier in the dataset.\n",
    "# Writing custom transformers helps in automatic hyper parameter tuning. The code below has one hyper parameter,\n",
    "# add_bedrooms_per_room, set to True by default. \n",
    "# Which will help us to determine if adding this attribute will help the model or not."
   ]
  },
  {
   "cell_type": "code",
   "execution_count": 40,
   "id": "f0963136",
   "metadata": {},
   "outputs": [],
   "source": [
    "from sklearn.base import BaseEstimator, TransformerMixin\n",
    "\n",
    "# column index\n",
    "rooms_ix, bedrooms_ix, population_ix, households_ix = 3, 4, 5, 6\n",
    "\n",
    "class CombinedAttributesAdder(BaseEstimator, TransformerMixin):\n",
    "    def __init__(self, add_bedrooms_per_room = True): # no *args or **kargs\n",
    "        self.add_bedrooms_per_room = add_bedrooms_per_room\n",
    "    def fit(self, X, y=None):\n",
    "        return self  # nothing else to do\n",
    "    def transform(self, X):\n",
    "        rooms_per_household = X[:, rooms_ix] / X[:, households_ix]\n",
    "        population_per_household = X[:, population_ix] / X[:, households_ix]\n",
    "        if self.add_bedrooms_per_room:\n",
    "            bedrooms_per_room = X[:, bedrooms_ix] / X[:, rooms_ix]\n",
    "            return np.c_[X, rooms_per_household, population_per_household,\n",
    "                         bedrooms_per_room]\n",
    "        else:\n",
    "            return np.c_[X, rooms_per_household, population_per_household]"
   ]
  },
  {
   "cell_type": "code",
   "execution_count": 41,
   "id": "d76d3bb1",
   "metadata": {},
   "outputs": [],
   "source": [
    "# ML models don’t perform well when input features are in different scales. \n",
    "# So, we will standardize the all the numeric features except for target variable."
   ]
  },
  {
   "cell_type": "code",
   "execution_count": 42,
   "id": "b75c85b6",
   "metadata": {},
   "outputs": [],
   "source": [
    "from sklearn.pipeline import Pipeline\n",
    "from sklearn.preprocessing import StandardScaler\n",
    "\n",
    "num_pipeline = Pipeline([\n",
    "        ('imputer', SimpleImputer(strategy=\"median\")),\n",
    "        ('attribs_adder', CombinedAttributesAdder()),\n",
    "        ('std_scaler', StandardScaler()),\n",
    "    ])"
   ]
  },
  {
   "cell_type": "markdown",
   "id": "ded42444",
   "metadata": {},
   "source": [
    "### Transforming Categorical Variables"
   ]
  },
  {
   "cell_type": "code",
   "execution_count": 43,
   "id": "3193976e",
   "metadata": {},
   "outputs": [],
   "source": [
    "from sklearn.compose import ColumnTransformer\n",
    "\n",
    "housing_num = housing.drop(\"ocean_proximity\", axis=1)\n",
    "\n",
    "num_attribs = list(housing_num)\n",
    "cat_attribs = [\"ocean_proximity\"]\n",
    "\n",
    "\n",
    "full_pipeline = ColumnTransformer([\n",
    "        (\"num\", num_pipeline, num_attribs),\n",
    "        (\"cat\", OneHotEncoder(), cat_attribs),\n",
    "    ])\n"
   ]
  },
  {
   "cell_type": "code",
   "execution_count": 44,
   "id": "03105c71",
   "metadata": {},
   "outputs": [
    {
     "data": {
      "text/plain": [
       "array([[-1.15604281,  0.77194962,  0.74333089, ...,  0.        ,\n",
       "         0.        ,  0.        ],\n",
       "       [-1.17602483,  0.6596948 , -1.1653172 , ...,  0.        ,\n",
       "         0.        ,  0.        ],\n",
       "       [ 1.18684903, -1.34218285,  0.18664186, ...,  0.        ,\n",
       "         0.        ,  1.        ],\n",
       "       ...,\n",
       "       [ 1.58648943, -0.72478134, -1.56295222, ...,  0.        ,\n",
       "         0.        ,  0.        ],\n",
       "       [ 0.78221312, -0.85106801,  0.18664186, ...,  0.        ,\n",
       "         0.        ,  0.        ],\n",
       "       [-1.43579109,  0.99645926,  1.85670895, ...,  0.        ,\n",
       "         1.        ,  0.        ]])"
      ]
     },
     "execution_count": 44,
     "metadata": {},
     "output_type": "execute_result"
    }
   ],
   "source": [
    "housing_prepared = full_pipeline.fit_transform(housing)\n",
    "housing_prepared"
   ]
  },
  {
   "cell_type": "markdown",
   "id": "1464e0b1",
   "metadata": {},
   "source": [
    "# Training a Machine Learning Model"
   ]
  },
  {
   "cell_type": "markdown",
   "id": "996c3e56",
   "metadata": {},
   "source": [
    "###  Linear Regression"
   ]
  },
  {
   "cell_type": "code",
   "execution_count": 82,
   "id": "1f7b0ab9",
   "metadata": {},
   "outputs": [
    {
     "data": {
      "text/plain": [
       "LinearRegression()"
      ]
     },
     "execution_count": 82,
     "metadata": {},
     "output_type": "execute_result"
    }
   ],
   "source": [
    "from sklearn.linear_model import LinearRegression\n",
    "\n",
    "lin_reg = LinearRegression()\n",
    "lin_reg.fit(housing_prepared, housing_labels)"
   ]
  },
  {
   "cell_type": "code",
   "execution_count": 83,
   "id": "67e53d53",
   "metadata": {},
   "outputs": [
    {
     "name": "stdout",
     "output_type": "stream",
     "text": [
      "Predictions: [204000. 326560. 203680.  58688. 194432.]\n"
     ]
    }
   ],
   "source": [
    "some_data = housing.iloc[:5]\n",
    "some_labels = housing_labels.iloc[:5]\n",
    "some_data_prepared = full_pipeline.transform(some_data)\n",
    "print(\"Predictions:\", lin_reg.predict(some_data_prepared))"
   ]
  },
  {
   "cell_type": "code",
   "execution_count": 84,
   "id": "f8870336",
   "metadata": {},
   "outputs": [
    {
     "name": "stdout",
     "output_type": "stream",
     "text": [
      "Labels: [286600.0, 340600.0, 196900.0, 46300.0, 254500.0]\n"
     ]
    }
   ],
   "source": [
    "### Compare against actual values\n",
    "\n",
    "print(\"Labels:\", list(some_labels))"
   ]
  },
  {
   "cell_type": "code",
   "execution_count": 85,
   "id": "e073f18d",
   "metadata": {},
   "outputs": [],
   "source": [
    "# In first instance, our model is off by around $76,000. Let’s measure RMSE of the regression model."
   ]
  },
  {
   "cell_type": "code",
   "execution_count": 86,
   "id": "cd63aa82",
   "metadata": {},
   "outputs": [
    {
     "data": {
      "text/plain": [
       "68380.12273997058"
      ]
     },
     "execution_count": 86,
     "metadata": {},
     "output_type": "execute_result"
    }
   ],
   "source": [
    "from sklearn.metrics import mean_squared_error  \n",
    "housing_predictions = lin_reg.predict(housing_prepared) \n",
    "lin_mse = mean_squared_error(housing_labels, housing_predictions)\n",
    "lin_rmse = np.sqrt(lin_mse) \n",
    "lin_rmse"
   ]
  },
  {
   "cell_type": "code",
   "execution_count": 87,
   "id": "e4b224ba",
   "metadata": {},
   "outputs": [
    {
     "data": {
      "text/plain": [
       "0.6507015134985605"
      ]
     },
     "execution_count": 87,
     "metadata": {},
     "output_type": "execute_result"
    }
   ],
   "source": [
    "lr = r2_score(housing_labels, housing_predictions)\n",
    "lr"
   ]
  },
  {
   "cell_type": "code",
   "execution_count": 50,
   "id": "b13e0b49",
   "metadata": {},
   "outputs": [],
   "source": [
    "# The RMSE tells us that model has typical prediction error of $68,380 which is pretty big. \n",
    "# We could try to add more feature or try more complex model to make model more accurate. "
   ]
  },
  {
   "cell_type": "markdown",
   "id": "48f94a52",
   "metadata": {},
   "source": [
    "### Decision Trees"
   ]
  },
  {
   "cell_type": "code",
   "execution_count": 51,
   "id": "aa6ee05c",
   "metadata": {},
   "outputs": [
    {
     "data": {
      "text/plain": [
       "DecisionTreeRegressor(random_state=42)"
      ]
     },
     "execution_count": 51,
     "metadata": {},
     "output_type": "execute_result"
    }
   ],
   "source": [
    "### Using DecisionTreeRegressor\n",
    "\n",
    "from sklearn.tree import DecisionTreeRegressor\n",
    "\n",
    "tree_reg = DecisionTreeRegressor(random_state=42)\n",
    "tree_reg.fit(housing_prepared, housing_labels)"
   ]
  },
  {
   "cell_type": "code",
   "execution_count": 52,
   "id": "35d047f3",
   "metadata": {},
   "outputs": [
    {
     "data": {
      "text/plain": [
       "0.0"
      ]
     },
     "execution_count": 52,
     "metadata": {},
     "output_type": "execute_result"
    }
   ],
   "source": [
    "housing_predictions = tree_reg.predict(housing_prepared)\n",
    "tree_mse = mean_squared_error(housing_labels, housing_predictions)\n",
    "tree_rmse = np.sqrt(tree_mse)\n",
    "tree_rmse"
   ]
  },
  {
   "cell_type": "code",
   "execution_count": 53,
   "id": "57a24d21",
   "metadata": {},
   "outputs": [],
   "source": [
    "# Cross validation"
   ]
  },
  {
   "cell_type": "code",
   "execution_count": 54,
   "id": "c83545d7",
   "metadata": {},
   "outputs": [],
   "source": [
    "from sklearn.model_selection import cross_val_score\n",
    "\n",
    "scores = cross_val_score(tree_reg, housing_prepared, housing_labels,\n",
    "                         scoring=\"neg_mean_squared_error\", cv=10)\n",
    "tree_rmse_scores = np.sqrt(-scores)"
   ]
  },
  {
   "cell_type": "code",
   "execution_count": 55,
   "id": "8a18704a",
   "metadata": {},
   "outputs": [
    {
     "name": "stdout",
     "output_type": "stream",
     "text": [
      "Scores: [68819.75267777 68342.33520328 70622.36427958 69811.72234331\n",
      " 71401.76032248 74089.44774089 71847.55873533 70671.08850854\n",
      " 76171.85388855 71370.97731792]\n",
      "Mean: 71314.88610176415\n",
      "Standard deviation: 2231.548220587874\n"
     ]
    }
   ],
   "source": [
    "### Let's look at the scores\n",
    "def display_scores(scores):\n",
    "    print(\"Scores:\", scores)\n",
    "    print(\"Mean:\", scores.mean())\n",
    "    print(\"Standard deviation:\", scores.std())\n",
    "\n",
    "display_scores(tree_rmse_scores)"
   ]
  },
  {
   "cell_type": "code",
   "execution_count": 56,
   "id": "8ba9def8",
   "metadata": {},
   "outputs": [
    {
     "name": "stdout",
     "output_type": "stream",
     "text": [
      "Scores: [66882.23734945 66610.40636358 70582.1507026  74181.46627292\n",
      " 67685.10769559 71106.2190578  64786.29838954 67710.02254842\n",
      " 71086.26337674 67690.41325331]\n",
      "Mean: 68832.05850099438\n",
      "Standard deviation: 2663.0013594992347\n"
     ]
    }
   ],
   "source": [
    "## Using cross validation on linear regression\n",
    "\n",
    "lin_scores = cross_val_score(lin_reg, housing_prepared, housing_labels, scoring=\"neg_mean_squared_error\", cv=10)\n",
    "lin_rmse_scores = np.sqrt(-lin_scores)\n",
    "display_scores(lin_rmse_scores)"
   ]
  },
  {
   "cell_type": "code",
   "execution_count": 57,
   "id": "f9c30a47",
   "metadata": {},
   "outputs": [],
   "source": [
    "#Now, we can see that linear regression was even better than decision tree which has mean error of $71,407 \n",
    "# with standard deviation of +- $2,439 compare to $68,628 RMSE of linear regression. "
   ]
  },
  {
   "cell_type": "markdown",
   "id": "5a709128",
   "metadata": {},
   "source": [
    "### Random Forest"
   ]
  },
  {
   "cell_type": "code",
   "execution_count": 89,
   "id": "b084ec31",
   "metadata": {},
   "outputs": [
    {
     "data": {
      "text/plain": [
       "RandomForestRegressor(n_estimators=5, random_state=42)"
      ]
     },
     "execution_count": 89,
     "metadata": {},
     "output_type": "execute_result"
    }
   ],
   "source": [
    "from sklearn.ensemble import RandomForestRegressor\n",
    "\n",
    "forest_reg = RandomForestRegressor(n_estimators=5, random_state=42)\n",
    "forest_reg.fit(housing_prepared, housing_labels)"
   ]
  },
  {
   "cell_type": "code",
   "execution_count": 90,
   "id": "eefdaae2",
   "metadata": {},
   "outputs": [
    {
     "data": {
      "text/plain": [
       "25723.253718042473"
      ]
     },
     "execution_count": 90,
     "metadata": {},
     "output_type": "execute_result"
    }
   ],
   "source": [
    "housing_predictions = forest_reg.predict(housing_prepared)\n",
    "forest_mse = mean_squared_error(housing_labels, housing_predictions)\n",
    "forest_rmse = np.sqrt(forest_mse) \n",
    "forest_rmse"
   ]
  },
  {
   "cell_type": "markdown",
   "id": "da4422f3",
   "metadata": {},
   "source": [
    "##### Model prediction error is just $18,603 on training sets. "
   ]
  },
  {
   "cell_type": "code",
   "execution_count": 91,
   "id": "0ba5859d",
   "metadata": {},
   "outputs": [
    {
     "data": {
      "text/plain": [
       "0.9505702112311869"
      ]
     },
     "execution_count": 91,
     "metadata": {},
     "output_type": "execute_result"
    }
   ],
   "source": [
    "forest_acc = r2_score(housing_labels, housing_predictions)\n",
    "forest_acc"
   ]
  },
  {
   "cell_type": "code",
   "execution_count": 61,
   "id": "f73873de",
   "metadata": {},
   "outputs": [
    {
     "name": "stdout",
     "output_type": "stream",
     "text": [
      "Scores: [54617.99576965 55343.72727579 56532.63349231 53792.60326966\n",
      " 57098.80385372]\n",
      "Mean: 55477.15273222593\n",
      "Standard deviation: 1211.4001754465362\n"
     ]
    }
   ],
   "source": [
    "from sklearn.model_selection import cross_val_score\n",
    "\n",
    "forest_scores = cross_val_score(forest_reg, housing_prepared, housing_labels,\n",
    "                                scoring=\"neg_mean_squared_error\", cv=5)\n",
    "forest_rmse_scores = np.sqrt(-forest_scores)\n",
    "display_scores(forest_rmse_scores)"
   ]
  },
  {
   "cell_type": "markdown",
   "id": "1a141f85",
   "metadata": {},
   "source": [
    "##### so far one of the best model with the error rate of $50,182"
   ]
  },
  {
   "cell_type": "markdown",
   "id": "fdce8b97",
   "metadata": {},
   "source": [
    "# Fine tuning the model"
   ]
  },
  {
   "cell_type": "code",
   "execution_count": 63,
   "id": "6c3d3962",
   "metadata": {},
   "outputs": [
    {
     "data": {
      "text/plain": [
       "GridSearchCV(cv=5, estimator=RandomForestRegressor(random_state=42),\n",
       "             param_grid=[{'max_features': [2, 4, 6, 8],\n",
       "                          'n_estimators': [3, 10, 30]},\n",
       "                         {'bootstrap': [False], 'max_features': [2, 3, 4],\n",
       "                          'n_estimators': [3, 10]}],\n",
       "             return_train_score=True, scoring='neg_mean_squared_error')"
      ]
     },
     "execution_count": 63,
     "metadata": {},
     "output_type": "execute_result"
    }
   ],
   "source": [
    "from sklearn.model_selection import GridSearchCV\n",
    "\n",
    "param_grid = [\n",
    "    # try 12 (3×4) combinations of hyperparameters\n",
    "    {'n_estimators': [3, 10, 30], 'max_features': [2, 4, 6, 8]},\n",
    "    # then try 6 (2×3) combinations with bootstrap set as False\n",
    "    {'bootstrap': [False], 'n_estimators': [3, 10], 'max_features': [2, 3, 4]},\n",
    "  ]\n",
    "\n",
    "forest_reg = RandomForestRegressor(random_state=42)\n",
    "# train across 5 folds, that's a total of (12+6)*5=90 rounds of training \n",
    "grid_search = GridSearchCV(forest_reg, param_grid, cv=5,\n",
    "                           scoring='neg_mean_squared_error',\n",
    "                           return_train_score=True)\n",
    "grid_search.fit(housing_prepared, housing_labels)\n"
   ]
  },
  {
   "cell_type": "code",
   "execution_count": 64,
   "id": "5ff834ff",
   "metadata": {},
   "outputs": [
    {
     "data": {
      "text/plain": [
       "{'max_features': 6, 'n_estimators': 30}"
      ]
     },
     "execution_count": 64,
     "metadata": {},
     "output_type": "execute_result"
    }
   ],
   "source": [
    "grid_search.best_params_"
   ]
  },
  {
   "cell_type": "code",
   "execution_count": 65,
   "id": "cb8ae570",
   "metadata": {},
   "outputs": [
    {
     "data": {
      "text/plain": [
       "RandomForestRegressor(max_features=6, n_estimators=30, random_state=42)"
      ]
     },
     "execution_count": 65,
     "metadata": {},
     "output_type": "execute_result"
    }
   ],
   "source": [
    "grid_search.best_estimator_"
   ]
  },
  {
   "cell_type": "code",
   "execution_count": 66,
   "id": "1418ebcf",
   "metadata": {},
   "outputs": [
    {
     "name": "stdout",
     "output_type": "stream",
     "text": [
      "64460.5181068357 {'max_features': 2, 'n_estimators': 3}\n",
      "55825.50936235517 {'max_features': 2, 'n_estimators': 10}\n",
      "53294.15665544071 {'max_features': 2, 'n_estimators': 30}\n",
      "61207.54541025911 {'max_features': 4, 'n_estimators': 3}\n",
      "53871.89816769728 {'max_features': 4, 'n_estimators': 10}\n",
      "51382.01993484741 {'max_features': 4, 'n_estimators': 30}\n",
      "59865.907956066316 {'max_features': 6, 'n_estimators': 3}\n",
      "53086.267981017125 {'max_features': 6, 'n_estimators': 10}\n",
      "50689.16973314965 {'max_features': 6, 'n_estimators': 30}\n",
      "59339.54458651603 {'max_features': 8, 'n_estimators': 3}\n",
      "53134.185423174655 {'max_features': 8, 'n_estimators': 10}\n",
      "50990.177210950395 {'max_features': 8, 'n_estimators': 30}\n",
      "62166.83853815223 {'bootstrap': False, 'max_features': 2, 'n_estimators': 3}\n",
      "54448.313958726496 {'bootstrap': False, 'max_features': 2, 'n_estimators': 10}\n",
      "60796.502531583166 {'bootstrap': False, 'max_features': 3, 'n_estimators': 3}\n",
      "52858.41577446194 {'bootstrap': False, 'max_features': 3, 'n_estimators': 10}\n",
      "60650.61627516198 {'bootstrap': False, 'max_features': 4, 'n_estimators': 3}\n",
      "52606.15062703931 {'bootstrap': False, 'max_features': 4, 'n_estimators': 10}\n"
     ]
    }
   ],
   "source": [
    "cvres = grid_search.cv_results_\n",
    "for mean_score, params in zip(cvres[\"mean_test_score\"], cvres[\"params\"]):\n",
    "    print(np.sqrt(-mean_score), params)"
   ]
  },
  {
   "cell_type": "code",
   "execution_count": 67,
   "id": "90ecdc92",
   "metadata": {},
   "outputs": [
    {
     "name": "stdout",
     "output_type": "stream",
     "text": [
      "49951.08241777783 {'max_features': 7, 'n_estimators': 180}\n",
      "51785.10430961075 {'max_features': 5, 'n_estimators': 15}\n",
      "51436.804480512925 {'max_features': 3, 'n_estimators': 72}\n",
      "51176.69272286088 {'max_features': 5, 'n_estimators': 21}\n",
      "50057.05679705256 {'max_features': 7, 'n_estimators': 122}\n",
      "51408.692790428795 {'max_features': 3, 'n_estimators': 75}\n",
      "51275.320292567536 {'max_features': 3, 'n_estimators': 88}\n",
      "50302.54673345825 {'max_features': 5, 'n_estimators': 100}\n",
      "50980.83517478715 {'max_features': 3, 'n_estimators': 150}\n",
      "65067.49999919616 {'max_features': 5, 'n_estimators': 2}\n"
     ]
    }
   ],
   "source": [
    "# Randomized hyper parameter search\n",
    "from sklearn.model_selection import RandomizedSearchCV\n",
    "from scipy.stats import randint\n",
    "param_distribs = {\n",
    "        'n_estimators': randint(low=1, high=200),\n",
    "        'max_features': randint(low=1, high=8),\n",
    "    }\n",
    "forest_reg = RandomForestRegressor(random_state=42)\n",
    "rnd_search = RandomizedSearchCV(forest_reg, param_distributions=param_distribs,\n",
    "                                n_iter=10, cv=5, scoring='neg_mean_squared_error', random_state=42)\n",
    "rnd_search.fit(housing_prepared, housing_labels)\n",
    "cvres = rnd_search.cv_results_\n",
    "for mean_score, params in zip(cvres[\"mean_test_score\"], cvres[\"params\"]):\n",
    "    print(np.sqrt(-mean_score), params)"
   ]
  },
  {
   "cell_type": "markdown",
   "id": "fc0ca063",
   "metadata": {},
   "source": [
    "##### looking the importance of features in the random forest model."
   ]
  },
  {
   "cell_type": "code",
   "execution_count": 68,
   "id": "8e48a0c8",
   "metadata": {},
   "outputs": [
    {
     "data": {
      "text/plain": [
       "[(0.24342861360691884, 'median_income'),\n",
       " (0.16206246965941018, 'income_cat'),\n",
       " (0.10766821432031576, 'pop_per_hhold'),\n",
       " (0.10695853955894917, 'INLAND'),\n",
       " (0.06724573739361057, 'longitude'),\n",
       " (0.059712421439829265, 'bedrooms_per_room'),\n",
       " (0.05873333021179715, 'latitude'),\n",
       " (0.05365840409387858, 'rooms_per_hhold'),\n",
       " (0.0463026542521523, 'housing_median_age'),\n",
       " (0.019168848202413925, 'population'),\n",
       " (0.018886189714881478, 'total_bedrooms'),\n",
       " (0.018223963248666288, 'households'),\n",
       " (0.018113319948291556, 'total_rooms'),\n",
       " (0.012014170855160277, '<1H OCEAN'),\n",
       " (0.0053494834133635295, 'NEAR OCEAN'),\n",
       " (0.00241345108667141, 'NEAR BAY'),\n",
       " (6.018899368976134e-05, 'ISLAND')]"
      ]
     },
     "execution_count": 68,
     "metadata": {},
     "output_type": "execute_result"
    }
   ],
   "source": [
    "# Feature Importance\n",
    "feature_importances = grid_search.best_estimator_.feature_importances_\n",
    "feature_importances\n",
    "extra_attribs = [\"rooms_per_hhold\", \"pop_per_hhold\", \"bedrooms_per_room\"]\n",
    "cat_encoder = full_pipeline.named_transformers_[\"cat\"]\n",
    "cat_one_hot_attribs = list(cat_encoder.categories_[0])\n",
    "attributes = num_attribs + extra_attribs + cat_one_hot_attribs\n",
    "sorted(zip(feature_importances, attributes), reverse=True)"
   ]
  },
  {
   "cell_type": "code",
   "execution_count": 69,
   "id": "3c026706",
   "metadata": {},
   "outputs": [],
   "source": [
    "# This step allows us the opportunity to understand which feature are most important and which are of low importance"
   ]
  },
  {
   "cell_type": "markdown",
   "id": "3659f963",
   "metadata": {},
   "source": [
    "## Evaluate the Model on the Test Set"
   ]
  },
  {
   "cell_type": "code",
   "execution_count": 70,
   "id": "c2421d35",
   "metadata": {},
   "outputs": [
    {
     "data": {
      "text/plain": [
       "49288.788177123024"
      ]
     },
     "execution_count": 70,
     "metadata": {},
     "output_type": "execute_result"
    }
   ],
   "source": [
    "final_model = grid_search.best_estimator_\n",
    "X_test = strat_test_set.drop(\"median_house_value\", axis=1)\n",
    "y_test = strat_test_set[\"median_house_value\"].copy()\n",
    "X_test_prepared = full_pipeline.transform(X_test)\n",
    "final_predictions = final_model.predict(X_test_prepared)\n",
    "final_mse = mean_squared_error(y_test, final_predictions)\n",
    "final_rmse = np.sqrt(final_mse)\n",
    "final_rmse"
   ]
  },
  {
   "cell_type": "code",
   "execution_count": 71,
   "id": "b5116337",
   "metadata": {},
   "outputs": [
    {
     "data": {
      "text/plain": [
       "array([47299.86945423, 51200.50419236])"
      ]
     },
     "execution_count": 71,
     "metadata": {},
     "output_type": "execute_result"
    }
   ],
   "source": [
    "# Computing 95% confidence interval\n",
    "from scipy import stats\n",
    "confidence = 0.95\n",
    "squared_errors = (final_predictions - y_test) ** 2\n",
    "np.sqrt(stats.t.interval(confidence, len(squared_errors) - 1,\n",
    "                         loc=squared_errors.mean(),\n",
    "                         scale=stats.sem(squared_errors)))"
   ]
  },
  {
   "cell_type": "markdown",
   "id": "98fb39d9",
   "metadata": {},
   "source": [
    "##### This tells us that prediction error can fluctuate anywhere between $45,685 to $49,691. \n",
    "##### Around $4,000 gap in confidence interval is something we can live with. So, this is our final model. "
   ]
  },
  {
   "cell_type": "code",
   "execution_count": 78,
   "id": "f2077bf9",
   "metadata": {},
   "outputs": [
    {
     "data": {
      "text/plain": [
       "0.8135780153140701"
      ]
     },
     "execution_count": 78,
     "metadata": {},
     "output_type": "execute_result"
    }
   ],
   "source": [
    "from sklearn import metrics\n",
    "from sklearn.metrics import r2_score, mean_squared_error, mean_absolute_error\n",
    "r2_score(y_test,final_predictions)"
   ]
  },
  {
   "cell_type": "code",
   "execution_count": 79,
   "id": "a67b4d28",
   "metadata": {},
   "outputs": [
    {
     "data": {
      "image/png": "[encoded data removed]",
      "text/plain": [
       "<Figure size 720x720 with 1 Axes>"
      ]
     },
     "metadata": {
      "needs_background": "light"
     },
     "output_type": "display_data"
    }
   ],
   "source": [
    "plt.figure(figsize=(10,10))\n",
    "plt.scatter(y_test, final_predictions, c='crimson')\n",
    "plt.yscale('log')\n",
    "plt.xscale('log')\n",
    "\n",
    "p1 = max(max(final_predictions), max(y_test))\n",
    "p2 = min(min(final_predictions), min(y_test))\n",
    "plt.plot([p1, p2], [p1, p2], 'b-')\n",
    "plt.xlabel('True Values', fontsize=15)\n",
    "plt.ylabel('Predictions', fontsize=15)\n",
    "plt.axis('equal')\n",
    "plt.show()"
   ]
  },
  {
   "cell_type": "code",
   "execution_count": null,
   "id": "a7bc3c98",
   "metadata": {},
   "outputs": [],
   "source": []
  }
 ],
 "metadata": {
  "kernelspec": {
   "display_name": "Python 3 (ipykernel)",
   "language": "python",
   "name": "python3"
  },
  "language_info": {
   "codemirror_mode": {
    "name": "ipython",
    "version": 3
   },
   "file_extension": ".py",
   "mimetype": "text/x-python",
   "name": "python",
   "nbconvert_exporter": "python",
   "pygments_lexer": "ipython3",
   "version": "3.9.7"
  }
 },
 "nbformat": 4,
 "nbformat_minor": 5
}
